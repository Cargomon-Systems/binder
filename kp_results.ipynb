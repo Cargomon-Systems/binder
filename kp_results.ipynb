{
 "cells": [
  {
   "cell_type": "code",
   "execution_count": 12,
   "metadata": {},
   "outputs": [
    {
     "data": {
      "application/vnd.jupyter.widget-view+json": {
       "model_id": "9249ac682967473da5ee14ebe8fd0cae",
       "version_major": 2,
       "version_minor": 0
      },
      "text/plain": [
       "HBox(children=(Text(value='tester', description='User:'), Text(value='', description='pass:'), Text(value='htt…"
      ]
     },
     "metadata": {},
     "output_type": "display_data"
    },
    {
     "data": {
      "application/vnd.jupyter.widget-view+json": {
       "model_id": "28958f3097f4434dab2443ea0cbdc193",
       "version_major": 2,
       "version_minor": 0
      },
      "text/plain": [
       "Output()"
      ]
     },
     "metadata": {},
     "output_type": "display_data"
    },
    {
     "data": {
      "application/vnd.jupyter.widget-view+json": {
       "model_id": "ed347c6589ae48fa82b598cbf95232cc",
       "version_major": 2,
       "version_minor": 0
      },
      "text/plain": [
       "HBox(children=(Text(value='4100068', description='Serial, NFC, MAC:'), Button(description='Show Results', styl…"
      ]
     },
     "metadata": {},
     "output_type": "display_data"
    },
    {
     "data": {
      "application/vnd.jupyter.widget-view+json": {
       "model_id": "b329772e4b25493fb2b4cc79be95626f",
       "version_major": 2,
       "version_minor": 0
      },
      "text/plain": [
       "Output()"
      ]
     },
     "metadata": {},
     "output_type": "display_data"
    },
    {
     "data": {
      "application/vnd.jupyter.widget-view+json": {
       "model_id": "511643f3abe248f7882dbe97954a9d75",
       "version_major": 2,
       "version_minor": 0
      },
      "text/plain": [
       "HBox(children=(Text(value='4100068', description='Serial, NFC, MAC:'), Button(description='Get Pairing', style…"
      ]
     },
     "metadata": {},
     "output_type": "display_data"
    },
    {
     "data": {
      "application/vnd.jupyter.widget-view+json": {
       "model_id": "750f86073b1c412fb329fc2be7f5d6a7",
       "version_major": 2,
       "version_minor": 0
      },
      "text/plain": [
       "Output()"
      ]
     },
     "metadata": {},
     "output_type": "display_data"
    }
   ],
   "source": [
    "import requests\r\n",
    "from datetime import datetime, timedelta\r\n",
    "import ipywidgets as widgets\r\n",
    "from IPython.display import display\r\n",
    "import json\r\n",
    "\r\n",
    "m_user = \"tester\"\r\n",
    "m_passw = \"\"\r\n",
    "m_server = \"https://\"\r\n",
    "\r\n",
    "def single_result_get(padevice, paResult): \r\n",
    "    response_val = \"\"\r\n",
    "    try: \r\n",
    "        if len(padevice)>14: \r\n",
    "            # mac\r\n",
    "            response = requests.get(m_server+'dut'+padevice+'/'+paResult, auth=(m_user, m_passw))\r\n",
    "            response_val = response.json()['value']\r\n",
    "        elif len(padevice)==14: \r\n",
    "            # nfc\r\n",
    "            response = requests.get(m_server+'lookupduts/NFCT_TAG/'+padevice, auth=(m_user, m_passw))\r\n",
    "            response = requests.get(m_server+'dut'+response.json()[0]+'/'+paResult, auth=(m_user, m_passw))\r\n",
    "            response_val = response.json()['value']\r\n",
    "        else:\r\n",
    "            # serial\r\n",
    "            response = requests.get(m_server+padevice+'/'+paResult, auth=(m_user, m_passw))\r\n",
    "            response_val = response.json()['value']\r\n",
    "    except: \r\n",
    "        response_val = \"\"\r\n",
    "\r\n",
    "    return response_val\r\n",
    "\r\n",
    "def multi_result_get(device):\r\n",
    "    serial = single_result_get(device, 'SERIAL')\r\n",
    "    #print(serial)\r\n",
    "    response = requests.get(m_server+serial, auth=(m_user, m_passw))\r\n",
    "    #print(response)\r\n",
    "    #print(response.json())\r\n",
    "\r\n",
    "    for element in response.json(): \r\n",
    "        print(f\"{element['timestamp']} | {element['name']} | {element['value']}\")\r\n",
    "\r\n",
    "    return response.json()\r\n",
    "\r\n",
    "def pairing_get(device):\r\n",
    "    in_data = device\r\n",
    "\r\n",
    "    hw_init = single_result_get(in_data, 'HW_VERSION')\r\n",
    "    hw_mac = single_result_get(in_data, 'HW_ADDRESS')\r\n",
    "    display = []\r\n",
    "    sensor = []\r\n",
    "\r\n",
    "    if hw_init.split('.')[2]=='0': \r\n",
    "        response = requests.get(m_server+'lookupduts/PAIRING1/'+hw_mac, auth=(m_user, m_passw))\r\n",
    "        if response.json(): \r\n",
    "            sensor = {'mac':response.json()[0]}\r\n",
    "        else: \r\n",
    "            response = requests.get(m_server+'lookupduts/PAIRING2/'+hw_mac, auth=(m_user, m_passw))\r\n",
    "            if response.json(): \r\n",
    "                sensor = {'mac':response.json()[0]}\r\n",
    "    else: \r\n",
    "        sensor = {'mac':hw_mac}\r\n",
    "\r\n",
    "    sensor['serial'] = single_result_get(sensor['mac'], 'SERIAL')\r\n",
    "    sensor['nfc'] =single_result_get(sensor['mac'], 'NFCT_TAG')\r\n",
    "\r\n",
    "    display.append({'mac':single_result_get(sensor['mac'], 'PAIRING1')})\r\n",
    "    display[-1]['serial'] = single_result_get(display[-1]['mac'], 'SERIAL')\r\n",
    "    display[-1]['nfc'] = single_result_get(display[-1]['mac'], 'NFCT_TAG')\r\n",
    "\r\n",
    "    display.append({'mac':single_result_get(sensor['mac'], 'PAIRING2')})\r\n",
    "    display[-1]['serial'] = single_result_get(display[-1]['mac'], 'SERIAL')\r\n",
    "    display[-1]['nfc'] = single_result_get(display[-1]['mac'], 'NFCT_TAG')\r\n",
    "\r\n",
    "    #print(f\"sensor: {sensor}\")\r\n",
    "    #print(f\"display: {display}\")\r\n",
    "\r\n",
    "    return {'sensor':sensor, 'display':display}\r\n",
    "\r\n",
    "user_input = widgets.Text(\r\n",
    "    value=m_user, \r\n",
    "    #placeholder='Type something',\r\n",
    "    description='User:',\r\n",
    "    disabled=False\r\n",
    ")\r\n",
    "pass_input = widgets.Text(\r\n",
    "    value=m_passw, \r\n",
    "    #placeholder='Type something',\r\n",
    "    description='pass:',\r\n",
    "    disabled=False\r\n",
    ")\r\n",
    "server_input = widgets.Text(\r\n",
    "    value=m_server, \r\n",
    "    #placeholder='Type something',\r\n",
    "    description='Serverstring',\r\n",
    "    disabled=False\r\n",
    ")\r\n",
    "button_setting_apply = widgets.Button(description=\"Apply settings\")\r\n",
    "output_settings = widgets.Output()\r\n",
    "\r\n",
    "h_box_settings = widgets.HBox([user_input, pass_input, server_input, button_setting_apply])\r\n",
    "display(h_box_settings)\r\n",
    "display(output_settings)\r\n",
    "\r\n",
    "def on_button_setting_apply_clicked(b):\r\n",
    "    with output_settings:\r\n",
    "        global m_user\r\n",
    "        global m_passw\r\n",
    "        global m_server\r\n",
    "        output_settings.clear_output()\r\n",
    "        m_user = user_input.value\r\n",
    "        m_passw = pass_input.value\r\n",
    "        m_server = server_input.value\r\n",
    "        #print(m_passw)\r\n",
    "\r\n",
    "button_setting_apply.on_click(on_button_setting_apply_clicked)\r\n",
    "\r\n",
    "\r\n",
    "device = widgets.Text(\r\n",
    "    value='4100068', \r\n",
    "    description='Serial, NFC, MAC:',\r\n",
    "    disabled=False\r\n",
    ")\r\n",
    "button = widgets.Button(description=\"Show Results\")\r\n",
    "output = widgets.Output()\r\n",
    "h_box_result = widgets.HBox([device, button])\r\n",
    "display(h_box_result)\r\n",
    "display(output)\r\n",
    "\r\n",
    "def on_button_clicked(b):\r\n",
    "    with output:\r\n",
    "        output.clear_output()\r\n",
    "        #print(m_user, m_passw, m_server)\r\n",
    "        multi_result_get(device.value)\r\n",
    "\r\n",
    "button.on_click(on_button_clicked)\r\n",
    "\r\n",
    "device_pairing = widgets.Text(\r\n",
    "    value='4100068', \r\n",
    "    description='Serial, NFC, MAC:',\r\n",
    "    disabled=False\r\n",
    ")\r\n",
    "button_pairing = widgets.Button(description=\"Get Pairing\")\r\n",
    "output_pairing = widgets.Output()\r\n",
    "\r\n",
    "h_box = widgets.HBox([device_pairing, button_pairing])\r\n",
    "display(h_box)\r\n",
    "display(output_pairing)\r\n",
    "\r\n",
    "def on_button_pairing_clicked(b):\r\n",
    "    with output_pairing:\r\n",
    "        output_pairing.clear_output()\r\n",
    "        print(json.dumps(pairing_get(device_pairing.value),indent = 4))\r\n",
    "button_pairing.on_click(on_button_pairing_clicked)\r\n"
   ]
  },
  {
   "cell_type": "code",
   "execution_count": null,
   "metadata": {},
   "outputs": [],
   "source": []
  }
 ],
 "metadata": {
  "interpreter": {
   "hash": "576290f7561404e52aaf0c2a867eb12675f2f90baf3a5342ed385861e34bf237"
  },
  "kernelspec": {
   "display_name": "Python 3.8.5 64-bit (conda)",
   "name": "python3"
  },
  "language_info": {
   "codemirror_mode": {
    "name": "ipython",
    "version": 3
   },
   "file_extension": ".py",
   "mimetype": "text/x-python",
   "name": "python",
   "nbconvert_exporter": "python",
   "pygments_lexer": "ipython3",
   "version": "3.8.5"
  },
  "metadata": {
   "interpreter": {
    "hash": "aeb35454bd27cb0b704c117dbccf60541275d68aa136afc55b3210440166b4f2"
   }
  }
 },
 "nbformat": 4,
 "nbformat_minor": 5
}